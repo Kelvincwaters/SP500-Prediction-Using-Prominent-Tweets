{
 "cells": [
  {
   "cell_type": "markdown",
   "metadata": {},
   "source": [
    "\n",
    "\n",
    "\n",
    "Capstone project determining if NYSE stock was influenced by Presidential tweets, and if so, can tweets be included to make some type of prediction. This notebook will attempt to prove or disprove this hypothesis while concentrating on: Defense stocks Northrop Grumman (NYSE: NOC), tech stocks Apple (NYSE: AAPL), and social stock Twitter (NYSE: TWTR). This project is NOT attempting be political but to use a well known social media platform to gauge if this advantage is available  and can be exploited like any other publically accessible data.\n",
    "\n",
    "\n",
    "This data can be drawn from various internet sources: \n",
    "\n",
    "Tiingo,\n",
    "IEX,\n",
    "Alpha Vantage,\n",
    "Enigma,\n",
    "Quandl,\n",
    "St.Louis FED (FRED),\n",
    "Kenneth French’s data library,\n",
    "World Bank,\n",
    "OECD,\n",
    "Eurostat,\n",
    "Thrift Savings Plan,\n",
    "Nasdaq Trader symbol definitions,\n",
    "Stooq,\n",
    "MOEX \n",
    "\n",
    "Stock Data \n",
    "Date - date of trade\n",
    "High - highest for the trading day\n",
    "Low - lowest for the trading day\n",
    "Open - opening price of stock begining of trading day\n",
    "Close - end of a trading session\n",
    "Volume - the number of shares that changed hands during a given day\n",
    "Adj Close - close based on corporate actions\n",
    "\n",
    "> President Trump took office starting 01/20/2017 through today.(notice end datetime end) All that's required is an internet connection!  \n",
    "\n",
    "President Donald Trumps tweets were obtained from https://github.com/bpb27/trump_tweet_data_archive"
   ]
  },
  {
   "cell_type": "code",
   "execution_count": null,
   "metadata": {},
   "outputs": [],
   "source": [
    "# # use this line to run the nbconvert to readme.md github file and replace README.md\n",
    "# ! jupyter nbconvert --to Markdown readme.ipynb"
   ]
  }
 ],
 "metadata": {
  "kernelspec": {
   "display_name": "Python 3",
   "language": "python",
   "name": "python3"
  },
  "language_info": {
   "codemirror_mode": {
    "name": "ipython",
    "version": 3
   },
   "file_extension": ".py",
   "mimetype": "text/x-python",
   "name": "python",
   "nbconvert_exporter": "python",
   "pygments_lexer": "ipython3",
   "version": "3.6.10"
  },
  "latex_envs": {
   "LaTeX_envs_menu_present": true,
   "autoclose": false,
   "autocomplete": true,
   "bibliofile": "biblio.bib",
   "cite_by": "apalike",
   "current_citInitial": 1,
   "eqLabelWithNumbers": true,
   "eqNumInitial": 1,
   "hotkeys": {
    "equation": "Ctrl-E",
    "itemize": "Ctrl-I"
   },
   "labels_anchors": false,
   "latex_user_defs": false,
   "report_style_numbering": false,
   "user_envs_cfg": false
  },
  "toc": {
   "base_numbering": 1,
   "nav_menu": {},
   "number_sections": true,
   "sideBar": true,
   "skip_h1_title": false,
   "title_cell": "Table of Contents",
   "title_sidebar": "Contents",
   "toc_cell": false,
   "toc_position": {},
   "toc_section_display": true,
   "toc_window_display": false
  }
 },
 "nbformat": 4,
 "nbformat_minor": 4
}
